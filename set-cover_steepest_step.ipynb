{
 "cells": [
  {
   "cell_type": "markdown",
   "metadata": {},
   "source": [
    "Copyright **`(c)`** 2024 Giovanni Squillero `<giovanni.squillero@polito.it>`  \n",
    "[`https://github.com/squillero/computational-intelligence`](https://github.com/squillero/computational-intelligence)  \n",
    "Free for personal or classroom use; see [`LICENSE.md`](https://github.com/squillero/computational-intelligence/blob/master/LICENSE.md) for details.  "
   ]
  },
  {
   "cell_type": "markdown",
   "metadata": {},
   "source": [
    "# Set Cover problem\n",
    "\n",
    "See: https://en.wikipedia.org/wiki/Set_cover_problem"
   ]
  },
  {
   "cell_type": "code",
   "execution_count": 28,
   "metadata": {},
   "outputs": [],
   "source": [
    "from random import random, seed\n",
    "from itertools import product,accumulate\n",
    "import numpy as np\n",
    "\n",
    "from icecream import ic\n",
    "\n",
    "from matplotlib import pyplot as plt"
   ]
  },
  {
   "cell_type": "markdown",
   "metadata": {},
   "source": [
    "## Reproducible Initialization\n",
    "\n",
    "If you want to get reproducible results, use `rng` (and restart the kernel); for non-reproducible ones, use `np.random`."
   ]
  },
  {
   "cell_type": "code",
   "execution_count": 29,
   "metadata": {},
   "outputs": [],
   "source": [
    "UNIVERSE_SIZE = 10_000\n",
    "NUM_SETS = 1000\n",
    "DENSITY = 0.3\n",
    "\n",
    "rng = np.random.Generator(np.random.PCG64([UNIVERSE_SIZE, NUM_SETS, int(10_000 * DENSITY)]))"
   ]
  },
  {
   "cell_type": "code",
   "execution_count": 30,
   "metadata": {},
   "outputs": [],
   "source": [
    "# DON'T EDIT THESE LINES!\n",
    "\n",
    "SETS = np.random.random((NUM_SETS, UNIVERSE_SIZE)) < DENSITY\n",
    "for s in range(UNIVERSE_SIZE):\n",
    "    if not np.any(SETS[:, s]):\n",
    "        SETS[np.random.randint(NUM_SETS), s] = True\n",
    "COSTS = np.pow(SETS.sum(axis=1), 1.1)"
   ]
  },
  {
   "cell_type": "markdown",
   "metadata": {},
   "source": [
    "## Helper Functions"
   ]
  },
  {
   "cell_type": "code",
   "execution_count": 31,
   "metadata": {},
   "outputs": [],
   "source": [
    "def valid(solution):\n",
    "    \"\"\"Checks wether solution is valid (ie. covers all universe)\"\"\"\n",
    "    return np.all(np.logical_or.reduce(SETS[solution]))\n",
    "\n",
    "\n",
    "def cost(solution):\n",
    "    \"\"\"Returns the cost of a solution (to be minimized)\"\"\"\n",
    "    return COSTS[solution].sum()"
   ]
  },
  {
   "cell_type": "markdown",
   "metadata": {},
   "source": [
    "## Have Fun!"
   ]
  },
  {
   "cell_type": "code",
   "execution_count": 32,
   "metadata": {},
   "outputs": [
    {
     "data": {
      "text/plain": [
       "(np.True_, np.float64(6674695.329497039))"
      ]
     },
     "execution_count": 32,
     "metadata": {},
     "output_type": "execute_result"
    }
   ],
   "source": [
    "# A dumb solution of \"all\" sets\n",
    "solution = np.full(NUM_SETS, True)\n",
    "valid(solution), cost(solution)"
   ]
  },
  {
   "cell_type": "code",
   "execution_count": 33,
   "metadata": {},
   "outputs": [
    {
     "data": {
      "text/plain": [
       "(np.True_, np.float64(3316780.468507696))"
      ]
     },
     "execution_count": 33,
     "metadata": {},
     "output_type": "execute_result"
    }
   ],
   "source": [
    "# A random solution with random 50% of the sets\n",
    "solution = rng.random(NUM_SETS) < .5\n",
    "valid(solution), cost(solution)"
   ]
  },
  {
   "cell_type": "markdown",
   "metadata": {},
   "source": [
    "## Steepest Step "
   ]
  },
  {
   "cell_type": "code",
   "execution_count": 34,
   "metadata": {},
   "outputs": [],
   "source": [
    "def tweak(solution: np.ndarray) -> np.ndarray: #single mutation \n",
    "    new_sol = solution.copy()\n",
    "    i = rng.integers(0, NUM_SETS)\n",
    "    new_sol[i] = not new_sol[i]\n",
    "    return new_sol\n",
    "\n",
    "def multiple_mutations(solution: np.ndarray) -> np.ndarray: #multiple mutations\n",
    "    mask = rng.random(NUM_SETS) < 0.01\n",
    "    new_sol = np.logical_xor(solution,mask)\n",
    "    return new_sol"
   ]
  },
  {
   "cell_type": "code",
   "execution_count": 35,
   "metadata": {},
   "outputs": [],
   "source": [
    "# We need to also consider if the solution is valid\n",
    "def fitness(solution: np.ndarray):\n",
    "    return (valid(solution),-cost(solution))\n",
    "\n",
    "# This uses the lexicografic order"
   ]
  },
  {
   "cell_type": "code",
   "execution_count": 36,
   "metadata": {},
   "outputs": [
    {
     "name": "stderr",
     "output_type": "stream",
     "text": [
      "ic| fitness(solution): (np.True_, np.float64(-6674695.329497039))\n",
      "ic| fitness(solution): (np.True_, np.float64(-130748.22893030164))\n",
      "ic| history.index(float(solution_fitness[1])): 9319\n"
     ]
    },
    {
     "name": "stdout",
     "output_type": "stream",
     "text": [
      "\n",
      " total steps: 50000\n"
     ]
    },
    {
     "data": {
      "image/png": "[encoded data removed]",
      "text/plain": [
       "<Figure size 1400x800 with 1 Axes>"
      ]
     },
     "metadata": {},
     "output_type": "display_data"
    }
   ],
   "source": [
    "STEEPEST_STEP_CANDIDATES = 5\n",
    "num_steps = 0\n",
    "max_value = -1\n",
    "\n",
    "\n",
    "solution = rng.random(NUM_SETS) < 1 \n",
    "\n",
    "solution_fitness = fitness(solution)\n",
    "history = [float( solution_fitness[1] )]\n",
    "\n",
    "ic(fitness(solution))\n",
    "\n",
    "\n",
    "for steps in range(10_000): \n",
    "\n",
    "    # using the small steps version of the tweak function produces better results\n",
    "    candidates = [tweak(solution) for _ in range(STEEPEST_STEP_CANDIDATES)] \n",
    "    candidates_fitness = list()\n",
    "    for c in candidates:\n",
    "            f = fitness(c)\n",
    "            history.append(float (f[1]))  \n",
    "            candidates_fitness.append(f)\n",
    "    idx = candidates_fitness.index(max(candidates_fitness)) # find the index of the best candidate\n",
    "\n",
    "    # keep candidate solution that yielded the steepest ascent\n",
    "    new_solution = candidates[idx] \n",
    "    \n",
    "    f = candidates_fitness[idx]\n",
    "    num_steps += STEEPEST_STEP_CANDIDATES\n",
    "\n",
    "\n",
    "    # history.append(float(f[1]))\n",
    "    \n",
    "    if f > solution_fitness:\n",
    "        solution = new_solution\n",
    "        solution_fitness = fitness(solution)\n",
    "\n",
    "   \n",
    "ic(fitness(solution))\n",
    "ic(history.index(float(solution_fitness[1]))) # number of steps to reach the best solution\n",
    "print(f\"\\n total steps: {num_steps}\")\n",
    "\n",
    "\n",
    "plt.figure(figsize=(14, 8))\n",
    "plt.plot(\n",
    "    range(len(history)),\n",
    "    list(accumulate(history, max)),\n",
    "    color=\"red\",\n",
    ")\n",
    "_ = plt.scatter(range(len(history)), history, marker=\".\")"
   ]
  }
 ],
 "metadata": {
  "kernelspec": {
   "display_name": "Python 3",
   "language": "python",
   "name": "python3"
  },
  "language_info": {
   "codemirror_mode": {
    "name": "ipython",
    "version": 3
   },
   "file_extension": ".py",
   "mimetype": "text/x-python",
   "name": "python",
   "nbconvert_exporter": "python",
   "pygments_lexer": "ipython3",
   "version": "3.12.7"
  }
 },
 "nbformat": 4,
 "nbformat_minor": 4
}
